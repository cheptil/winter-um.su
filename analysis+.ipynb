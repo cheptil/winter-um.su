{
 "cells": [
  {
   "cell_type": "code",
   "execution_count": 2,
   "metadata": {},
   "outputs": [],
   "source": [
    "import csv"
   ]
  },
  {
   "cell_type": "code",
   "execution_count": 3,
   "metadata": {},
   "outputs": [],
   "source": [
    "from collections import defaultdict"
   ]
  },
  {
   "cell_type": "code",
   "execution_count": 4,
   "metadata": {},
   "outputs": [
    {
     "name": "stdout",
     "output_type": "stream",
     "text": [
      "125\n"
     ]
    }
   ],
   "source": [
    "facts = defaultdict(set)\n",
    "count = 0\n",
    "with open(\"основные_списки_уни_2.csv\") as f:\n",
    "    for i in f.readlines()[1:]:\n",
    "        count += 1\n",
    "        ii = i.rstrip().split(';')\n",
    "        facts[ii[-1]].add(' '.join(filter(None, ii[1:-1])))\n",
    "print(count)"
   ]
  },
  {
   "cell_type": "code",
   "execution_count": 5,
   "metadata": {},
   "outputs": [
    {
     "data": {
      "text/plain": [
       "dict_keys(['Геологический', 'Механико-математический', 'Филологический', 'Юридический', 'Химический', 'ФГУ', 'Физический', 'Биологический', 'Психологии', 'Исторический', 'ФФМ', 'ВМК', 'Экономический', 'ФНМ', 'Журналистики', 'Социологический', 'ВШТ', 'Географический', 'ИСАА', 'Мехмат', 'Биотехнологический', 'Политологии', 'Почвоведения', 'Философский'])"
      ]
     },
     "execution_count": 5,
     "metadata": {},
     "output_type": "execute_result"
    }
   ],
   "source": [
    "facts.keys()"
   ]
  },
  {
   "cell_type": "code",
   "execution_count": 6,
   "metadata": {},
   "outputs": [
    {
     "data": {
      "text/plain": [
       "14"
      ]
     },
     "execution_count": 6,
     "metadata": {},
     "output_type": "execute_result"
    }
   ],
   "source": [
    "len(facts['Механико-математический'])"
   ]
  },
  {
   "cell_type": "code",
   "execution_count": 7,
   "metadata": {},
   "outputs": [],
   "source": [
    "facts['Механико-математический']=facts['Механико-математический'].union(facts['Мехмат'])"
   ]
  },
  {
   "cell_type": "code",
   "execution_count": 8,
   "metadata": {},
   "outputs": [
    {
     "data": {
      "text/plain": [
       "15"
      ]
     },
     "execution_count": 8,
     "metadata": {},
     "output_type": "execute_result"
    }
   ],
   "source": [
    "len(facts['Механико-математический'])"
   ]
  },
  {
   "cell_type": "code",
   "execution_count": 9,
   "metadata": {},
   "outputs": [
    {
     "data": {
      "text/plain": [
       "{'Крылова Галина Александровна'}"
      ]
     },
     "execution_count": 9,
     "metadata": {},
     "output_type": "execute_result"
    }
   ],
   "source": [
    "facts.pop('Мехмат')"
   ]
  },
  {
   "cell_type": "code",
   "execution_count": 12,
   "metadata": {},
   "outputs": [
    {
     "name": "stdout",
     "output_type": "stream",
     "text": [
      "125\n",
      "[('Биологический', 6), ('Биотехнологический', 1), ('ВМК', 5), ('ВШТ', 1), ('Географический', 7), ('Геологический', 11), ('Журналистики', 3), ('ИСАА', 2), ('Исторический', 3), ('Механико-математический', 15), ('Политологии', 2), ('Почвоведения', 2), ('Психологии', 4), ('Социологический', 6), ('ФГУ', 3), ('ФНМ', 4), ('ФФМ', 3), ('Физический', 14), ('Филологический', 7), ('Философский', 2), ('Химический', 8), ('Экономический', 6), ('Юридический', 10)]\n"
     ]
    }
   ],
   "source": [
    "res=[]\n",
    "count = 0\n",
    "for fact in sorted(facts.keys()):\n",
    "    count += len(facts[fact])\n",
    "    res.append((fact, len(facts[fact])))\n",
    "print(count)\n",
    "print(res)"
   ]
  },
  {
   "cell_type": "code",
   "execution_count": 15,
   "metadata": {},
   "outputs": [
    {
     "name": "stdout",
     "output_type": "stream",
     "text": [
      "Механико-математический 15\n",
      "Физический 14\n",
      "Геологический 11\n",
      "Юридический 10\n",
      "Химический 8\n",
      "Географический 7\n",
      "Филологический 7\n",
      "Биологический 6\n",
      "Социологический 6\n",
      "Экономический 6\n",
      "ВМК 5\n",
      "Психологии 4\n",
      "ФНМ 4\n",
      "Журналистики 3\n",
      "Исторический 3\n",
      "ФГУ 3\n",
      "ФФМ 3\n",
      "ИСАА 2\n",
      "Политологии 2\n",
      "Почвоведения 2\n",
      "Философский 2\n",
      "Биотехнологический 1\n",
      "ВШТ 1\n",
      "125\n"
     ]
    }
   ],
   "source": [
    "count=0\n",
    "for i,j in sorted(res, key=lambda x: x[1], reverse=True):\n",
    "    count += j\n",
    "    print(i, j)\n",
    "print(count)"
   ]
  }
 ],
 "metadata": {
  "kernelspec": {
   "display_name": "Python 3",
   "language": "python",
   "name": "python3"
  },
  "language_info": {
   "codemirror_mode": {
    "name": "ipython",
    "version": 3
   },
   "file_extension": ".py",
   "mimetype": "text/x-python",
   "name": "python",
   "nbconvert_exporter": "python",
   "pygments_lexer": "ipython3",
   "version": "3.6.4"
  }
 },
 "nbformat": 4,
 "nbformat_minor": 2
}
