{
 "cells": [
  {
   "cell_type": "code",
   "execution_count": 77,
   "metadata": {},
   "outputs": [],
   "source": [
    "from collections import defaultdict"
   ]
  },
  {
   "cell_type": "code",
   "execution_count": 78,
   "metadata": {},
   "outputs": [
    {
     "name": "stdout",
     "output_type": "stream",
     "text": [
      "138 95 43\n"
     ]
    }
   ],
   "source": [
    "facts = defaultdict(set)\n",
    "count = 0\n",
    "f=0\n",
    "m=0\n",
    "with open(\"основные_списки_круни.csv\") as ff:\n",
    "    for i in ff.readlines()[1:]:\n",
    "        count += 1\n",
    "        ii = i.rstrip().split(',')\n",
    "        if ii[0] == 'f':\n",
    "            f = f + 1\n",
    "        elif ii[0] == 'm':\n",
    "            m = m + 1\n",
    "print(count, m, f)"
   ]
  },
  {
   "cell_type": "code",
   "execution_count": 79,
   "metadata": {},
   "outputs": [],
   "source": [
    "fa={\"МехМат\":[m, f], \"ВМК\":[1, 0], \"Соцфак\":[0,1]}\n",
    "m = [i[0] for i in fa.values()]\n",
    "f = [i[1] for i in fa.values()]"
   ]
  },
  {
   "cell_type": "code",
   "execution_count": 80,
   "metadata": {},
   "outputs": [],
   "source": [
    "import matplotlib.pyplot as plt"
   ]
  },
  {
   "cell_type": "code",
   "execution_count": 81,
   "metadata": {
    "scrolled": true
   },
   "outputs": [
    {
     "data": {
      "image/png": "[encoded data removed]",
      "text/plain": [
       "<Figure size 432x288 with 1 Axes>"
      ]
     },
     "metadata": {},
     "output_type": "display_data"
    }
   ],
   "source": [
    "p1 = plt.bar(fa.keys(), m)\n",
    "p2 = plt.bar(fa.keys(), f, bottom=m)\n",
    "plt.xticks(list(fa.keys()), list(fa.keys()), rotation='vertical')\n",
    "#plt.xlabel(\"МехМат\")\n",
    "plt.ylabel('Количество отдыхающих')\n",
    "plt.title('Распределение отдыхающих по факультетам')\n",
    "plt.axis([-1, 3, 0, 150])\n",
    "plt.legend((p1[0], p2[0]), ('Men', 'Not men'))\n",
    "plt.show()"
   ]
  },
  {
   "cell_type": "code",
   "execution_count": null,
   "metadata": {},
   "outputs": [],
   "source": []
  }
 ],
 "metadata": {
  "kernelspec": {
   "display_name": "Python 3",
   "language": "python",
   "name": "python3"
  },
  "language_info": {
   "codemirror_mode": {
    "name": "ipython",
    "version": 3
   },
   "file_extension": ".py",
   "mimetype": "text/x-python",
   "name": "python",
   "nbconvert_exporter": "python",
   "pygments_lexer": "ipython3",
   "version": "3.6.4"
  }
 },
 "nbformat": 4,
 "nbformat_minor": 2
}
